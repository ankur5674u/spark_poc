{
 "cells": [
  {
   "cell_type": "markdown",
   "metadata": {},
   "source": [
    "## Methods and Varible in Python\n",
    "\n",
    "### Types of method in Python\n",
    "\n",
    "1. Instance Methods\n",
    "2. Class Methods\n",
    "3. Static Methods\n",
    "```python\n",
    "class Student:\n",
    "    clg_name = \"XYZ\"\n",
    "    # Instance Method\n",
    "    def __init__(self, name, age):\n",
    "        # Instance variable\n",
    "        self.name = name  \n",
    "        self.age = age\n",
    "        \n",
    "    def msg(self):\n",
    "        print(f\"{self.name} {self.age}\")\n",
    "```\n",
    "### Types of variable in python\n",
    "\n",
    "1. Instance Variable\n",
    "    * Instance variable are owned by the instance of class.\n",
    "    * For each object, instance varible are different\n",
    "    \n",
    "2. Class Variable\n",
    "    * Class variable are shared by all the objects of that class\n",
    "    * Class variable can be accessed by instance and class name\n",
    "    \n",
    "### Difference between static and class method\n",
    "\n",
    "1. Class method takes cls as first argument, instance method takes self as first argument, while static method need no specific parameters.\n",
    "\n",
    "2. Staic method knows nothing about the class state, while class methods can access and modify class state\n",
    "\n",
    "3. @classmethod decorators are used to create class method,@staticmethod decorators are used to create static methods"
   ]
  },
  {
   "cell_type": "code",
   "execution_count": 53,
   "metadata": {},
   "outputs": [],
   "source": [
    "class Employee:\n",
    "    company_name = \"Incentius\"\n",
    "    counter = 0\n",
    "    def __init__(self, name, age):\n",
    "        self.name = name\n",
    "        self.age = age\n",
    "        Employee.counter += 1\n",
    "        \n",
    "    def msg(self):\n",
    "        print(self)\n",
    "        print(f\"{self.name} {self.age}\")\n",
    "        \n",
    "    @classmethod  \n",
    "    def object_count(cls):\n",
    "        print(cls)\n",
    "        return cls.counter"
   ]
  },
  {
   "cell_type": "code",
   "execution_count": 54,
   "metadata": {},
   "outputs": [
    {
     "name": "stdout",
     "output_type": "stream",
     "text": [
      "Object 1:\n",
      "Ankur\n",
      "20\n",
      "Incentius\n",
      "<__main__.Employee object at 0x7f86bc4e7208>\n",
      "Ankur 20\n",
      "####################\n",
      "Object 2:\n",
      "Ankita\n",
      "25\n",
      "Incentius\n",
      "Incentius\n",
      "<__main__.Employee object at 0x7f86bc4e7518>\n",
      "Ankita 25\n",
      "<class '__main__.Employee'>\n",
      "Object Counter = 2\n"
     ]
    }
   ],
   "source": [
    "print(\"Object 1:\")\n",
    "s1 = Employee(\"Ankur\", \"20\")\n",
    "print(s1.name)\n",
    "print(s1.age)\n",
    "print(s1.company_name)\n",
    "s1.msg()\n",
    "\n",
    "print(\"#\"*20)\n",
    "\n",
    "print(\"Object 2:\")\n",
    "s2 = Employee(\"Ankita\", \"25\")\n",
    "print(s2.name)\n",
    "print(s2.age)\n",
    "print(s2.company_name)\n",
    "print(Employee.company_name)\n",
    "s2.msg()\n",
    "\n",
    "print(f\"Object Counter = {Employee.object_count()}\")"
   ]
  },
  {
   "cell_type": "code",
   "execution_count": 55,
   "metadata": {},
   "outputs": [],
   "source": [
    "class Student:\n",
    "    \n",
    "    \n",
    "    def __init__(self, name, marks):\n",
    "        self.name = name\n",
    "        self.marks = marks\n",
    "    \n",
    "    \n",
    "    def msg(self):\n",
    "        print(self.name+ \" got \"+ self.marks)\n",
    "        \n",
    "    @classmethod  \n",
    "    def get_per(cls, name, marks):\n",
    "        return cls(name, str((int(marks)/600)*100))\n",
    "    \n",
    "    @staticmethod\n",
    "    def get_age(age):\n",
    "        if age < 17:\n",
    "            print(\"Belongs to School\")\n",
    "        else:\n",
    "            print(\"Belongs to college\")\n",
    "    "
   ]
  },
  {
   "cell_type": "code",
   "execution_count": 56,
   "metadata": {},
   "outputs": [],
   "source": [
    "s1 = Student.get_per(\"Ankur Prakash Singh\", \"560\")"
   ]
  },
  {
   "cell_type": "code",
   "execution_count": 57,
   "metadata": {},
   "outputs": [
    {
     "name": "stdout",
     "output_type": "stream",
     "text": [
      "Ankur Prakash Singh got 93.33333333333333\n"
     ]
    }
   ],
   "source": [
    "s1.msg()"
   ]
  },
  {
   "cell_type": "code",
   "execution_count": 58,
   "metadata": {},
   "outputs": [
    {
     "name": "stdout",
     "output_type": "stream",
     "text": [
      "Belongs to college\n"
     ]
    }
   ],
   "source": [
    "Student.get_age(17)"
   ]
  },
  {
   "cell_type": "code",
   "execution_count": null,
   "metadata": {},
   "outputs": [],
   "source": []
  },
  {
   "cell_type": "code",
   "execution_count": null,
   "metadata": {},
   "outputs": [],
   "source": []
  }
 ],
 "metadata": {
  "kernelspec": {
   "display_name": "Python 3",
   "language": "python",
   "name": "python3"
  },
  "language_info": {
   "codemirror_mode": {
    "name": "ipython",
    "version": 3
   },
   "file_extension": ".py",
   "mimetype": "text/x-python",
   "name": "python",
   "nbconvert_exporter": "python",
   "pygments_lexer": "ipython3",
   "version": "3.6.9"
  }
 },
 "nbformat": 4,
 "nbformat_minor": 4
}

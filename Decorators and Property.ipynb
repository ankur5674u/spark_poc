{
 "cells": [
  {
   "cell_type": "markdown",
   "metadata": {},
   "source": [
    "# <center>Decorators</center>\n",
    "\n",
    "Decorators is nothing but the person who does the decoration. Decoration is nothing but adding something to make a thing more attractive or presentable.\n",
    "\n",
    "Python decorator is any callable object that is used to modify a function or class. They are two types:\n",
    "\n",
    "1. Function Decorator\n",
    "\n",
    "2. Class Decorator\n",
    "\n",
    "To understand decorator in python we need to understand some other concept also i.e. \n",
    "\n",
    "* Nested function \n",
    "* Function can return another function\n",
    "* Function names are referenced\n",
    "* We can use function as parameter\n"
   ]
  },
  {
   "cell_type": "code",
   "execution_count": 4,
   "metadata": {},
   "outputs": [
    {
     "name": "stdout",
     "output_type": "stream",
     "text": [
      "inner\n",
      "6\n"
     ]
    }
   ],
   "source": [
    "def outer():\n",
    "    x = 3\n",
    "    def inner():\n",
    "        y = 3\n",
    "        result = x+y\n",
    "        return result\n",
    "    return inner\n",
    "\n",
    "a = outer()\n",
    "print(a.__name__)\n",
    "print(a())"
   ]
  },
  {
   "cell_type": "markdown",
   "metadata": {},
   "source": [
    "* When function defined inside another function then that function is called nested function. Here inner is an nested funnction.\n",
    "\n",
    "* Outer function is returning another function inner. So function can return another function.\n",
    "\n",
    "* If function return another function withot parenthesis, then taht will return reference to that function(memory location of that function)"
   ]
  },
  {
   "cell_type": "code",
   "execution_count": 7,
   "metadata": {},
   "outputs": [
    {
     "name": "stdout",
     "output_type": "stream",
     "text": [
      "Hi I am function 2 now I will call function1\n",
      "function1\n",
      "Hi I am function1\n"
     ]
    }
   ],
   "source": [
    "def function1():\n",
    "    print(\"Hi I am function1\")\n",
    "    \n",
    "def function2(func):\n",
    "    print(\"Hi I am function 2 now I will call function1\")\n",
    "    print(func.__name__)\n",
    "    func()\n",
    "    \n",
    "function2(function1)"
   ]
  },
  {
   "cell_type": "code",
   "execution_count": 12,
   "metadata": {},
   "outputs": [
    {
     "name": "stdout",
     "output_type": "stream",
     "text": [
      "GOOD MORNING\n"
     ]
    }
   ],
   "source": [
    "# Decorator without parameter\n",
    "def str_upper(func):\n",
    "    def inner():\n",
    "        str1 = func()\n",
    "        return str1.upper()\n",
    "    return inner\n",
    "@str_upper    \n",
    "def print_str():\n",
    "    return \"good morning\"\n",
    "\n",
    "print(print_str())\n",
    "\n",
    "# d = str_upper(print_str) # = @decorator_function_name(@str_upper)\n",
    "# print(d())"
   ]
  },
  {
   "cell_type": "markdown",
   "metadata": {},
   "source": [
    "* To decorate the function we need to pass that function to decorator function.\n",
    "* if you return reference of a function in decoratour, you wull have to call the function\n",
    "* if you return the function itself then you just need to mention the function reference only"
   ]
  },
  {
   "cell_type": "code",
   "execution_count": 16,
   "metadata": {},
   "outputs": [
    {
     "name": "stdout",
     "output_type": "stream",
     "text": [
      "2.0\n",
      "Give Proper input\n"
     ]
    }
   ],
   "source": [
    "def dev_decorator(func):\n",
    "    def inner(x,y):\n",
    "        if y==0: \n",
    "            return \"Give Proper input\"\n",
    "        return func(x,y)\n",
    "    return inner\n",
    "\n",
    "@dev_decorator\n",
    "def div(a,b):\n",
    "    return a/b\n",
    "    \n",
    "print(div(4,2))\n",
    "print(div(4,0))"
   ]
  },
  {
   "cell_type": "markdown",
   "metadata": {},
   "source": [
    "### Multiple Decorator in single function\n",
    "\n"
   ]
  },
  {
   "cell_type": "code",
   "execution_count": 24,
   "metadata": {},
   "outputs": [
    {
     "name": "stdout",
     "output_type": "stream",
     "text": [
      "inner\n",
      "ordinary\n",
      "['GOOD', 'MORNING']\n"
     ]
    }
   ],
   "source": [
    "def upper_d(func):\n",
    "    def inner():\n",
    "        print(func.__name__)\n",
    "        str1 = func()\n",
    "        return str1.upper()\n",
    "    return inner\n",
    "\n",
    "def split_d(func):\n",
    "    def wrapper():\n",
    "        print(func.__name__)\n",
    "        str2 = func()\n",
    "        return str2.split()\n",
    "    return wrapper\n",
    "\n",
    "@split_d\n",
    "@upper_d\n",
    "def ordinary():\n",
    "    return \"good morning\"\n",
    "\n",
    "print(ordinary())"
   ]
  },
  {
   "cell_type": "markdown",
   "metadata": {},
   "source": [
    "### What does functools.wraps do?\n",
    "\n",
    "When you use a decorator, you are replacing one function with another. In other words, if you have a decorator.\n",
    "\n",
    "```python\n",
    "def logged(func):\n",
    "    def with_logging(*args, **kwargs):\n",
    "        print(func.__name__ + \" was called\")\n",
    "        return func(*args, **kwargs)\n",
    "return with_logging\n",
    "```\n",
    "then when you say\n",
    "\n",
    "```python\n",
    "@logged\n",
    "def f(x):\n",
    "   \"\"\"does some math\"\"\"\n",
    "   return x + x * x\n",
    "```\n",
    "\n",
    "it's exactly the same as saying\n",
    "\n",
    "```python\n",
    "def f(x):\n",
    "    \"\"\"does some math\"\"\"\n",
    "    return x + x * x\n",
    "f = logged(f)\n",
    "```\n",
    "\n",
    "and your function f is replaced with the function with_logging. Unfortunately, this means that if you then say\n",
    "\n",
    "```python\n",
    "print(f.__name__)\n",
    "```\n",
    "\n",
    "it will print with_logging because that's the name of your new function. In fact, if you look at the docstring for f, it will be blank because with_logging has no docstring, and so the docstring you wrote won't be there anymore. Also, if you look at the pydoc result for that function, it won't be listed as taking one argument x; instead it'll be listed as taking *args and **kwargs because that's what with_logging takes.\n",
    "\n",
    "If using a decorator always meant losing this information about a function, it would be a serious problem. That's why we have functools.wraps. This takes a function used in a decorator and adds the functionality of copying over the function name, docstring, arguments list, etc. And since wraps is itself a decorator, the following code does the correct thing:\n",
    "\n",
    "```python\n",
    "from functools import wraps\n",
    "def logged(func):\n",
    "    @wraps(func)\n",
    "    def with_logging(*args, **kwargs):\n",
    "        print(func.__name__ + \" was called\")\n",
    "        return func(*args, **kwargs)\n",
    "    return with_logging\n",
    "\n",
    "@logged\n",
    "def f(x):\n",
    "   \"\"\"does some math\"\"\"\n",
    "   return x + x * x\n",
    "\n",
    "print(f.__name__)  # prints 'f'\n",
    "print(f.__doc__)   # prints 'does some math'\n",
    "```\n",
    "\n",
    "```python\n",
    "@functools.wraps(f)\n",
    "def g():\n",
    "    pass\n",
    "```\n",
    "Is an alias for g = functools.update_wrapper(g, f). It does exactly three things:\n",
    "\n",
    "* it copies the __module__, __name__, __qualname__, __doc__, and __annotations__ attributes of f on g. This default list is in WRAPPER_ASSIGNMENTS, you can see it in the functools source.\n",
    "* it updates the __dict__ of g with all elements from f.__dict__. (see WRAPPER_UPDATES in the source)\n",
    "* it sets a new __wrapped__=f attribute on g"
   ]
  },
  {
   "cell_type": "markdown",
   "metadata": {},
   "source": [
    "### Decorator with parameter"
   ]
  },
  {
   "cell_type": "code",
   "execution_count": 20,
   "metadata": {},
   "outputs": [
    {
     "name": "stdout",
     "output_type": "stream",
     "text": [
      "Good Morning\n"
     ]
    }
   ],
   "source": [
    "def str_decorator(expr):\n",
    "    def wrapper(func):\n",
    "        def inner():\n",
    "            str1 = func()\n",
    "            if expr=='uper':\n",
    "                return str1.upper()\n",
    "            return str1.title()\n",
    "        return inner\n",
    "    return wrapper\n",
    "\n",
    "@str_decorator('title')\n",
    "def ordinary():\n",
    "    return \"good morning\"\n",
    "\n",
    "print(ordinary())"
   ]
  },
  {
   "cell_type": "markdown",
   "metadata": {},
   "source": [
    "### General Decorators function"
   ]
  },
  {
   "cell_type": "code",
   "execution_count": 22,
   "metadata": {},
   "outputs": [
    {
     "name": "stdout",
     "output_type": "stream",
     "text": [
      "2.0\n",
      "0.5\n",
      "Give Proper Input\n",
      "Give Proper Input\n"
     ]
    }
   ],
   "source": [
    "def div_decorator(func):\n",
    "    def wrapper(*args):\n",
    "        list1 = []\n",
    "        list1 = args[1:]\n",
    "        for i in list1:\n",
    "            if i==0:\n",
    "                return \"Give Proper Input\"\n",
    "        return func(*args)\n",
    "    return wrapper\n",
    "        \n",
    "@div_decorator   \n",
    "def div1(a,b):\n",
    "    return a/b\n",
    "@div_decorator\n",
    "def div2(a,b,c):\n",
    "    return a/b/c\n",
    "\n",
    "print(div1(10,5))\n",
    "print(div2(10,4,5))\n",
    "print(div1(10,0))\n",
    "print(div2(10,0,5))"
   ]
  },
  {
   "cell_type": "code",
   "execution_count": 25,
   "metadata": {},
   "outputs": [],
   "source": [
    "def decorator(func):\n",
    "    def inner():\n",
    "        str1 = func()\n",
    "        return str1.upper()\n",
    "    return inner\n",
    "\n",
    "@decorator\n",
    "def greet():\n",
    "    return \"good morning\""
   ]
  },
  {
   "cell_type": "code",
   "execution_count": 26,
   "metadata": {},
   "outputs": [
    {
     "name": "stdout",
     "output_type": "stream",
     "text": [
      "inner\n"
     ]
    }
   ],
   "source": [
    "print(greet.__name__)"
   ]
  },
  {
   "cell_type": "markdown",
   "metadata": {},
   "source": [
    "* Here we are executing this greet function and i wanted to print that name but here we are getting inner as a function name because decorators hide some data of original function like the name, docstring, parameter list. By adding functionality it will also hide the dat of the original function.\n",
    "\n",
    "* if we want to preserve original function information we have to import functools and wrpas the nested function. It will copy the data from orginal function to decorator closure."
   ]
  },
  {
   "cell_type": "code",
   "execution_count": 27,
   "metadata": {},
   "outputs": [],
   "source": [
    "import functools\n",
    "def decorator(func):\n",
    "    @functools.wraps(func)\n",
    "    def inner():\n",
    "        str1 = func()\n",
    "        return str1.upper()\n",
    "    return inner\n",
    "\n",
    "@decorator\n",
    "def greet():\n",
    "    return \"good morning\""
   ]
  },
  {
   "cell_type": "code",
   "execution_count": 28,
   "metadata": {},
   "outputs": [
    {
     "name": "stdout",
     "output_type": "stream",
     "text": [
      "greet\n"
     ]
    }
   ],
   "source": [
    "print(greet.__name__)"
   ]
  },
  {
   "cell_type": "code",
   "execution_count": 30,
   "metadata": {},
   "outputs": [
    {
     "name": "stdout",
     "output_type": "stream",
     "text": [
      "Hey my name is also same!!!\n"
     ]
    }
   ],
   "source": [
    "def check_name(method):\n",
    "    def inner(name_ref):\n",
    "        if name_ref.name==\"ankur\":\n",
    "            print(\"Hey my name is also same!!!\")\n",
    "        else:\n",
    "            method(name_ref)\n",
    "    return inner\n",
    "        \n",
    "class Printing:\n",
    "    def __init__(self,name):\n",
    "        self.name = name\n",
    "    @check_name \n",
    "    def print_name(self):\n",
    "        print(f\"Entered User Name: {self.name}\")\n",
    "        \n",
    "p = Printing(\"ankur\")\n",
    "p.print_name()"
   ]
  },
  {
   "cell_type": "markdown",
   "metadata": {},
   "source": [
    "__call__ is a special method which will executed when we call an object in function form."
   ]
  },
  {
   "cell_type": "code",
   "execution_count": 35,
   "metadata": {},
   "outputs": [],
   "source": [
    "import functools\n",
    "class Decorator:\n",
    "    def __init__(self,func):\n",
    "        self.func = func\n",
    "    def __call__(self):\n",
    "        str1= self.func()\n",
    "        return str1.upper()\n",
    "@Decorator    \n",
    "def greet():\n",
    "    return \"good morning\""
   ]
  },
  {
   "cell_type": "code",
   "execution_count": 33,
   "metadata": {},
   "outputs": [
    {
     "name": "stdout",
     "output_type": "stream",
     "text": [
      "<class '__main__.Decorator'>\n"
     ]
    }
   ],
   "source": [
    "print(greet.__class__)"
   ]
  },
  {
   "cell_type": "code",
   "execution_count": 36,
   "metadata": {},
   "outputs": [
    {
     "name": "stdout",
     "output_type": "stream",
     "text": [
      "GOOD MORNING\n"
     ]
    }
   ],
   "source": [
    "print(greet())"
   ]
  },
  {
   "cell_type": "code",
   "execution_count": 62,
   "metadata": {},
   "outputs": [],
   "source": [
    "import functools\n",
    "class CheckDiv(object):\n",
    "    def __init__(self,func):\n",
    "        self.func = func\n",
    "        self.cache = {}\n",
    "        functools.update_wrapper(self, func) \n",
    "\n",
    "    def __call__(self,*args,**kwargs):\n",
    "        list1 = []\n",
    "        list1 = args[1:]\n",
    "        for i in list1:\n",
    "            if i==0:\n",
    "                print(\"You can't devide change the input!!\")\n",
    "                return\n",
    "        else:\n",
    "            return self.func(*args,**kwargs)\n",
    "        \n",
    "    def __get__(self, obj, objtype):\n",
    "        return functools.partial(self.__call__, obj)\n"
   ]
  },
  {
   "cell_type": "code",
   "execution_count": 63,
   "metadata": {},
   "outputs": [],
   "source": [
    "@CheckDiv\n",
    "def div(a,b):\n",
    "    return a/b\n",
    "@CheckDiv\n",
    "def div1(a,b,c):\n",
    "    return a/b/c\n",
    "    "
   ]
  },
  {
   "cell_type": "code",
   "execution_count": 64,
   "metadata": {},
   "outputs": [
    {
     "name": "stdout",
     "output_type": "stream",
     "text": [
      "You can't devide change the input!!\n",
      "None\n",
      "You can't devide change the input!!\n",
      "None\n"
     ]
    }
   ],
   "source": [
    "print(div(10,0))\n",
    "print(div(10,0,0))"
   ]
  },
  {
   "cell_type": "code",
   "execution_count": 78,
   "metadata": {},
   "outputs": [
    {
     "name": "stdout",
     "output_type": "stream",
     "text": [
      "Can't Set value stick to previous value\n",
      "Getting value:\n",
      "400\n",
      "66.66666666666666 %\n",
      "Ankita\n"
     ]
    }
   ],
   "source": [
    "class Student:\n",
    "    def __init__(self, marks,name):\n",
    "        self.__marks = marks\n",
    "        self.__name = name\n",
    "        \n",
    "    def per(self):\n",
    "        return (self.__marks/600)*100\n",
    "    \n",
    "    @property\n",
    "    def marks(self):\n",
    "        print(\"Getting value:\", end=\"\\n\")\n",
    "        return self.__marks\n",
    "    \n",
    "    @marks.setter\n",
    "    def marks(self, value):\n",
    "        if value < 0 or value > 600:\n",
    "            print(\"Can't Set value stick to previous value\")\n",
    "        else:\n",
    "            print(\"Setting value:\", end=\"\\n\")\n",
    "            self.__marks = value\n",
    "    \n",
    "    def name_g(self):\n",
    "        return self.__name\n",
    "    \n",
    "    def name_s(self, value):\n",
    "        self.__name = value\n",
    "        \n",
    "    name = property(name_g, name_s)\n",
    "        \n",
    "\n",
    "s = Student(400,'Ankur')\n",
    "s.marks = 700\n",
    "s.name = \"Ankita\"\n",
    "print(s.marks)\n",
    "print(s.per(), \"%\")  \n",
    "print(s.name)\n",
    "    \n",
    "    "
   ]
  },
  {
   "cell_type": "code",
   "execution_count": null,
   "metadata": {},
   "outputs": [],
   "source": []
  },
  {
   "cell_type": "code",
   "execution_count": null,
   "metadata": {},
   "outputs": [],
   "source": []
  }
 ],
 "metadata": {
  "kernelspec": {
   "display_name": "Python 3",
   "language": "python",
   "name": "python3"
  },
  "language_info": {
   "codemirror_mode": {
    "name": "ipython",
    "version": 3
   },
   "file_extension": ".py",
   "mimetype": "text/x-python",
   "name": "python",
   "nbconvert_exporter": "python",
   "pygments_lexer": "ipython3",
   "version": "3.6.9"
  }
 },
 "nbformat": 4,
 "nbformat_minor": 4
}
